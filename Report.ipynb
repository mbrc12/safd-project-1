{
  "nbformat": 4,
  "nbformat_minor": 0,
  "metadata": {
    "colab": {
      "name": "SAFD1.ipynb",
      "provenance": [],
      "collapsed_sections": []
    },
    "kernelspec": {
      "display_name": "Python 3",
      "name": "python3"
    }
  },
  "cells": [
    {
      "cell_type": "markdown",
      "metadata": {
        "id": "MOuH1DYZbSEg"
      },
      "source": [
        "# Regression in terms of Trees and Forests\n",
        "\n",
        "### **Group 3:** _Ashish Agarwal, Bagal Satej Babanrao, Kushagra Mahajan, Mihir Yadav, Mriganka Basu Roy Chowdhury_\n",
        "\n",
        "Over the last few decades, the statistical learning/inference community has experienced a boom. With the advent of AI/ML, people have increasingly turned to sophisticated methods like Deep Learning and Reinforcement Learning. However, for a wide range of tasks of practical use, \"classical\" algorithms still fare sufficiently well. And what is more important -- the theory of these classical estimators is fairly well understood. We now know how they work, why they work, and how they can be modified effectively and deterministically for various use-cases. This makes their study not only relevant from a historical perspective, but also from a scientific perspective because they form that part of a data-scientists toolbox where he/she is aware of the underlying theory (as opposed to DL, which is still mostly a black-box), and consequently can wield them to considerable effect.\n",
        "\n",
        "The most popular and well studied of these classical estimators/classifiers is perhaps Regression (and its many variants). In this article we delve deeper into a form of Regression that uses Decision Trees, an extremely powerful idea in Classical ML. Towards the end of this article we will also take a look at simple ensemble methods, like the Random Forest.\n",
        "\n",
        "\n",
        "\n",
        "## Decision Trees\n",
        "\n",
        "What are decision trees? Perhaps we are better off answering this with a picture:\n",
        "\n",
        "![](https://github.com/mbrc12/random-images/raw/master/decisionTree.png)\n",
        "\n",
        "We think of $A, B, C$ as attributes of a data-point. Each node represents a question (say $A < B$ ?,  $A + 2B > 9$ ? etc) which has TRUE/FALSE answer. The two edges out of the node represent these two answers. Each leaf will essentially represent a set of inequalities. This means that a leaf node corresponds to the region (in the domain) defined by these inequalities; like the following figure:\n",
        "\n",
        "![](https://github.com/mbrc12/random-images/raw/master/splitting.png)\n",
        "\n",
        "### Regression\n",
        "\n",
        "The decision tree will split the dataset into many parts, by determining optimal attributes and corresponding splitting values. Given a new datapoint, we can now figure out to which leaf this point belongs and report the average of the decision values of all the datapoints belonging to this leaf.\n",
        "\n",
        "Why are decision trees better than simple regression? Well consider the following data-points:\n",
        "\n",
        "![](https://github.com/mbrc12/random-images/raw/master/comparison_with_linear_regression.png)\n",
        "\n",
        "As we can see, there are different regions with different characteristics. If we used plain linear regression, it would attempt to treat these differing regions as the same, thereby causing a large error (on both test and training data), simply because it is not capable of capturing this feature of a dataset. Decision trees however can divide the plane into regions and fit different structures on different parts, thereby giving a much better accuracy. This theoretical prediction is indeed also carried over in practice. \n",
        "\n",
        "## Constructing the Decision Tree\n",
        "The central idea lies in how we split a given node. We iterate over all the features and calculate the splitting value and impurity corresponding to that feature and **select the one providing the minimum impurity**, which is defined as the <b>weighted sum of the sample variances of the two child nodes</b>. This can be calculated by first sorting all the datapoints present in that node based on the corresponding feature values and then making a linear traversal.\n",
        "\n",
        "Initially we would place all the points in the right child. At every step, we would move the current datapoint from the right node to the left node and make the required changes in the sample variances of the children nodes.\n",
        "\n",
        "So how can we actually construct such a tree?\n",
        "The crux of the algorithm lies in coming up with the best splits at each node. The splits are identified with the sole purpose of minimizing the impurity at the nodes.\n",
        "\n",
        "Now how to define this 'impurity' given a set of data points at a node?\n",
        "\n",
        "For regression purposes variance of the data has proved to be a good measure of impurity. For our use case we find the split that minimizes the weighted sum of variance at each child node generated.\n",
        "\n",
        "At each step we choose a leaf $v_{i}$ and for each attribute $d_{i}$ we calculate a constant $c_{i}$ which is the split value that results in minimum impurity if the split is made on this attribute.\n",
        "This means that if a node is split at attribute $d_{i}$ with the split value $c_{i}$, the node will be split into leaves one with values $x_{d_{i}} \\le c_{i}$ and the other with $x_{d_{i}} > c_{i}$.\n",
        "\n",
        "At this point we make a core observation: \n",
        "<b>An optimal $c$ for any attribute $d$ can be chosen to be one of the $(x_{i})_{d} $</b>.\n",
        "\n",
        "Why does this hold? <br>\n",
        "Suppose the values of $(x_{i})_{k}$ are sorted as $z_{1}\\le z_{2}\\le z_{3} \\le \\cdots \\le z_{N}$ where $N$ is the number of datapoints.\n",
        "For a split value $c$ such that $z_{i} \\le c < z_{i+1}$ we have the following: all the values $\\le z_{i}$ belong to the left child and the rest to the right child. But this split remains same for any value of $c$ in $[z_{i}, z_{i+1})$. So we can just take $c$ to be $z_{i}$ itself.\n",
        "\n",
        "This makes life a bit simpler as for calculating the optimal split value for some attribute $d_{i}$ we just need to iterate over all $z_{i}$ and pick the value that results in the most variance reduction.\n",
        "\n",
        "Now the only thing that remains is to choose an attribute to split on. This happens to be trivial as we just need to iterate over all attributes and choose the one that reduces the variance most. The optimal split for each attribute is calculated by following the steps explained above.\n",
        "\n",
        "Okay, so far we have seen how we can grow our decision tree starting from a single root node by splitting the nodes at each iterative step. How long do we keep doing this?<br>\n",
        "Should we do this till we reach pure splits and cannot split further? Then we would get $100\\%$ accuracy on the training data but will most definitely end up just learning all the training data and our model will not generalize well to unseen data.\n",
        "\n",
        "It looks like we need some stopping criterion to prevent our model from overfitting.\n",
        "\n",
        "At this point let us introduce the $\\mathrm{coefficient\\ of\\ variance}$: \n",
        "\n",
        "$\\mathrm{CoefVar} = \\dfrac{\\mathrm{Standard\\ Deviation}}{\\mathrm{Mean}} = \\dfrac{\\sqrt{\\dfrac{1}{n}\\sum_{j}(y_{j}-\\bar y)^{2}}}{\\bar y}$\n",
        "\n",
        "which is a measure of the variability of data relative to the mean.\n",
        "\n",
        "At every node we calculate this coefficient and if it falls below a certain threshold, $i.e.$ the variability of data has reduced enough, the node is not split any more. \n",
        "\n",
        "\n",
        "## Code Walkthrough\n",
        "We begin with a single node, and iterate over all possible attributes and threshold values ( Function _build_ beginning from _line_ _140_ _below_) and pick the split leading to the minimum impurity. Function _get_impurity_ (_line_ _65_) computes the impurity for a given attribute. Function _get_decision_value_for_feature_ (_line_ _23_) computes the threshold splitting value correspoding to a feature. Once these are evaluated, _divide_data_ (_line_ _98_) is called to make the split."
      ]
    },
    {
      "cell_type": "markdown",
      "metadata": {
        "id": "1V7TeE4HsHaI"
      },
      "source": [
        "##Pruning\n",
        "\n",
        "Pruning is yet another technique to prevent overfitting of decision trees. It reduces the size of decision trees by removing parts of the tree that do not provide enough power (as opposed to the time/overfitting cost) to classify instances. Decision trees are the most susceptible out of all the machine learning algorithms to overfitting and effective pruning can reduce this possibility.\n",
        "As the name implies, pruning involves cutting back the tree. After a tree has been built (and in the absence of early stopping discussed below) it may be overfitted. The recusive algorithm will then repeatedly partition data into smaller and smaller subsets until those final subsets are homogeneous in terms of the outcome variable. In practice this often means that the final subsets (known as the leaves of the tree) each consist of only one or a few data points. The tree has learned the data exactly, but a new data point that differs very slightly might not be predicted well. This is why pruning is an important technique, in both theory and practice.\n",
        "\n",
        "###Code Walkthrough\n",
        "The code for pruning is implemented below in function `prune_decision_tree` *(line 161 - 183 below)*\n",
        "\n",
        "* Consider an internal (non-leaf) node $v$, and let $S_v$ be the sample variance of $y_i$ of all datapoints contained in this node $v$. *(line 170 - 172)*\n",
        "* Let $S_v'$ be the sum of the sample variances of $y_i$ of all leaves which are descendants of $v$. *(line 174)*\n",
        "* Clearly $S_v' < S_v$, because splitting \"improves\" the sample variance.\n",
        "* But, to penalize large structures, we look at $P_v = S_v - S_v' - \\lambda |T_v|$, where $|T_v|$ is the size of the subtree of $v$, and $\\lambda$ is a **pruning factor**. Larger $\\lambda$ results in more pruning. *(line 176)*\n",
        "* If $P_v < 0$, we decide that this subtree must be pruned. Intuitively, we prune when *pay more because of the size of the subtree than we gain because of variance reduction*. *(line 178 - 183)*"
      ]
    },
    {
      "cell_type": "code",
      "metadata": {
        "id": "FV65TamQPGZY"
      },
      "source": [
        "import numpy as np\n",
        "import sklearn.metrics as metrics\n",
        "\n",
        "class TreeNode:\n",
        "    def __init__(self):\n",
        "        self.predicted_value = None\n",
        "        self.decision_feature = None\n",
        "        self.decision_value = None\n",
        "        self.left_node = None\n",
        "        self.right_node = None\n",
        "\n",
        "class DecisionTree:\n",
        "\n",
        "    def __init__(self):\n",
        "        self.root_node = None\n",
        "        self.min_coef_of_var = None\n",
        "        self.reductions = None\n",
        "\n",
        "    def fit(self, X, Y, min_coef_of_var = 0, pruning_factor = 0):\n",
        "        self.min_coef_of_var = min_coef_of_var\n",
        "        self.root_node = self.build(X, Y)\n",
        "        self.prune_decision_tree(X, Y, self.root_node, pruning_factor)\n",
        "\n",
        "        self.reductions = np.zeros(len(X[0]))\n",
        "        self.reductions = self.calculate_reductions(X, Y, self.root_node, self.reductions)\n",
        "\n",
        "    def get_decision_value_for_feature(self, X, Y, decision_feature):\n",
        "        \n",
        "        Z = np.empty((0, 2), float)\n",
        "        for i in range(len(Y)):\n",
        "            Z = np.append(Z, [[X[i, decision_feature], Y[i]]], axis = 0)\n",
        "\n",
        "        Z = np.sort(Z, axis = 0)\n",
        "\n",
        "        left_cardinality = 0\n",
        "        right_cardinality = 0\n",
        "        left_sum = 0\n",
        "        right_sum = 0\n",
        "        left_sum_of_squares = 0\n",
        "        right_sum_of_squares = 0\n",
        "\n",
        "        for i in range(len(Z)):\n",
        "            right_cardinality += 1\n",
        "            right_sum += Z[i, 1]\n",
        "            right_sum_of_squares += Z[i, 1] ** 2\n",
        "\n",
        "        current_best_impurity = right_sum_of_squares\n",
        "        current_best_decision_value = Z[0, 0] - 1\n",
        "\n",
        "        for i in range(len(Z)):\n",
        "            left_cardinality += 1\n",
        "            left_sum += Z[i, 1]\n",
        "            left_sum_of_squares += Z[i, 1] ** 2\n",
        "\n",
        "            right_cardinality -= 1\n",
        "            right_sum -= Z[i, 1]\n",
        "            right_sum_of_squares -= Z[i, 1] ** 2\n",
        "\n",
        "            impurity = left_sum_of_squares - left_sum * left_sum / left_cardinality\n",
        "            if (right_cardinality != 0):\n",
        "                impurity += right_sum_of_squares - right_sum * right_sum / right_cardinality\n",
        "            \n",
        "            if (impurity < current_best_impurity):\n",
        "                current_best_impurity = impurity\n",
        "                current_best_decision_value = Z[i, 0]\n",
        "\n",
        "        return current_best_decision_value\n",
        "\n",
        "    def get_impurity(self, X, Y, decision_feature, decision_value_for_feature):\n",
        "        left_cardinality = 0\n",
        "        right_cardinality = 0\n",
        "        left_sum = 0\n",
        "        right_sum = 0\n",
        "\n",
        "        for i in range(len(Y)):\n",
        "            if (X[i, decision_feature] <= decision_value_for_feature):\n",
        "                left_cardinality += 1\n",
        "                left_sum += Y[i]\n",
        "            else:\n",
        "                right_cardinality += 1\n",
        "                right_sum += Y[i]\n",
        "\n",
        "        if (left_cardinality != 0):\n",
        "            left_mean = left_sum / left_cardinality\n",
        "        else:\n",
        "            left_mean = 0\n",
        "\n",
        "        if (right_cardinality != 0):\n",
        "            right_mean = right_sum / right_cardinality\n",
        "        else:\n",
        "            right_mean = 0\n",
        "\n",
        "        impurity = 0\n",
        "        for i in range(len(Y)):\n",
        "            if (X[i, decision_feature] <= decision_value_for_feature):\n",
        "                impurity += (Y[i] - left_mean) ** 2\n",
        "            else:\n",
        "                impurity += (Y[i] - right_mean) ** 2\n",
        "\n",
        "        return impurity\n",
        "\n",
        "    def divide_data(self, X, Y, decision_feature, decision_value):\n",
        "        number_of_features = len(X[0])\n",
        "        X_left = np.empty((0, number_of_features), float)\n",
        "        X_right = np.empty((0, number_of_features), float)\n",
        "        Y_left = np.empty(0, float)\n",
        "        Y_right = np.empty(0, float)\n",
        "\n",
        "        for i in range(len(X)):\n",
        "            if (X[i, decision_feature] <= decision_value):\n",
        "                X_left = np.append(X_left, [X[i]], axis = 0)\n",
        "                Y_left = np.append(Y_left, [Y[i]], axis = 0)\n",
        "            else:\n",
        "                X_right = np.append(X_right, [X[i]], axis = 0)\n",
        "                Y_right = np.append(Y_right, [Y[i]], axis = 0)\n",
        "\n",
        "        return X_left, Y_left, X_right, Y_right\n",
        "\n",
        "    def build(self, X, Y):\n",
        "        if (len(X) == 0):\n",
        "            return\n",
        "\n",
        "        root_node = TreeNode()\n",
        "        node_mean = np.mean(Y)\n",
        "        root_node.predicted_value = node_mean\n",
        "        node_deviation = np.std(Y)\n",
        "\n",
        "        # Do not split\n",
        "        if (node_deviation / node_mean < self.min_coef_of_var):\n",
        "            root_node.decision_value = 0\n",
        "            root_node.decision_feature = 0\n",
        "            return\n",
        "\n",
        "        if (np.amin(Y) == np.amax(Y)):\n",
        "            root_node.decision_value = 0\n",
        "            root_node.decision_feature = 0\n",
        "            return root_node\n",
        "\n",
        "        number_of_features = len(X[0])\n",
        "        current_best_feature = -1\n",
        "        current_best_decision_value = -1\n",
        "        current_best_impurity = -1\n",
        "\n",
        "        for i in range(number_of_features):\n",
        "            decision_value_for_feature = self.get_decision_value_for_feature(X, Y, i)\n",
        "            impurity_of_decision_value = self.get_impurity(X, Y, i, decision_value_for_feature)\n",
        "\n",
        "            if (current_best_feature == -1 or impurity_of_decision_value < current_best_impurity):\n",
        "                current_best_feature = i\n",
        "                current_best_decision_value = decision_value_for_feature\n",
        "                current_best_impurity = impurity_of_decision_value\n",
        "\n",
        "        root_node.decision_feature = current_best_feature\n",
        "        root_node.decision_value = current_best_decision_value\n",
        "\n",
        "        X_left, Y_left, X_right, Y_right = self.divide_data(X, Y, root_node.decision_feature, root_node.decision_value)\n",
        "\n",
        "        if (len(Y_left) == 0 or len(Y_right) == 0):\n",
        "            return root_node\n",
        "\n",
        "        root_node.left_node = self.build(X_left, Y_left)\n",
        "        root_node.right_node = self.build(X_right, Y_right)\n",
        "        return root_node\n",
        "\n",
        "    def prune_decision_tree(self, X, Y, root_node, pruning_factor):\n",
        "        if (root_node == None):\n",
        "          return 0\n",
        "\n",
        "        X_left, Y_left, X_right, Y_right = self.divide_data(X, Y, root_node.decision_feature, root_node.decision_value)\n",
        "        left_tree_size = self.prune_decision_tree(X_left, Y_left, root_node.left_node, pruning_factor)\n",
        "        right_tree_size = self.prune_decision_tree(X_right, Y_right, root_node.right_node, pruning_factor)\n",
        "        tree_size = 1 + left_tree_size + right_tree_size\n",
        "\n",
        "        impurity = 0\n",
        "        for y in Y:\n",
        "            impurity += (y - root_node.predicted_value) ** 2\n",
        "\n",
        "        divided_impurity = self.get_impurity(X, Y, root_node.decision_feature, root_node.decision_value)\n",
        "\n",
        "        pruning_value = impurity / len(Y) - divided_impurity / len(Y) - pruning_factor * tree_size\n",
        "\n",
        "        if (pruning_value < 0):\n",
        "            root_node.left_node = None\n",
        "            root_node.right_node = None\n",
        "            return 1\n",
        "        else:\n",
        "            return tree_size\n",
        "    \n",
        "    def calculate_reductions(self, X, Y, root_node, reductions):\n",
        "        if (root_node == None):\n",
        "            return reductions\n",
        "\n",
        "        impurity = 0\n",
        "        for y in Y:\n",
        "            impurity += (y - root_node.predicted_value) ** 2\n",
        "\n",
        "        for i in range(len(X[0])):\n",
        "            decision_value_for_feature = self.get_decision_value_for_feature(X, Y, i)\n",
        "            impurity_of_decision_value = self.get_impurity(X, Y, i, decision_value_for_feature)\n",
        "\n",
        "            reductions[i] += impurity - impurity_of_decision_value\n",
        "        \n",
        "        X_left, Y_left, X_right, Y_right = self.divide_data(X, Y, root_node.decision_feature, root_node.decision_value)\n",
        "        reductions = self.calculate_reductions(X_left, Y_left, root_node.left_node, reductions)\n",
        "        reductions = self.calculate_reductions(X_right, Y_right, root_node.right_node, reductions)\n",
        "\n",
        "        return reductions\n",
        "    \n",
        "    def get_reductions(self):\n",
        "        return self.reductions\n",
        "\n",
        "    def predict_single(self, X):\n",
        "        current_node = self.root_node\n",
        "        while (True):\n",
        "            if (X[current_node.decision_feature] <= current_node.decision_value):\n",
        "                if (current_node.left_node != None):\n",
        "                    current_node = current_node.left_node\n",
        "                else:\n",
        "                    return current_node.predicted_value\n",
        "            else:\n",
        "                if (current_node.right_node != None):\n",
        "                    current_node = current_node.right_node\n",
        "                else:\n",
        "                    return current_node.predicted_value\n",
        "\n",
        "    def predict(self, X):\n",
        "        Y = np.empty(0, float)\n",
        "        for x in X:\n",
        "            Y = np.append(Y, [self.predict_single(x)], axis = 0)\n",
        "\n",
        "        return Y\n",
        "\n",
        "decision_tree = DecisionTree()"
      ],
      "execution_count": 14,
      "outputs": []
    },
    {
      "cell_type": "markdown",
      "metadata": {
        "id": "TJnQKidglmyF"
      },
      "source": [
        "We will use Boston housing data from ```sklearn.datasets``` for testing our algorithm.\n",
        "\n"
      ]
    },
    {
      "cell_type": "code",
      "metadata": {
        "id": "Z63Hg3prQLZS"
      },
      "source": [
        "from sklearn.datasets import load_boston\n",
        "data = load_boston(return_X_y=False)\n",
        "X = data.data\n",
        "y = data.target\n",
        "from sklearn.model_selection import train_test_split\n",
        "X_train, X_test, y_train, y_test = train_test_split(X, y, test_size = 0.2, random_state = 1)"
      ],
      "execution_count": 15,
      "outputs": []
    },
    {
      "cell_type": "markdown",
      "metadata": {
        "id": "hB_S17NXmJco"
      },
      "source": [
        "We fit our decision tree to the training data, and check our performance on the test data."
      ]
    },
    {
      "cell_type": "code",
      "metadata": {
        "id": "wF9wssGhQTBu",
        "outputId": "91805836-ddc9-493c-f313-2e2f3dc73476",
        "colab": {
          "base_uri": "https://localhost:8080/",
          "height": 34
        }
      },
      "source": [
        "decision_tree.fit(X_train, y_train, min_coef_of_var = 0.025, pruning_factor = 0)\n",
        "y_test_pred = decision_tree.predict(X_test)\n",
        "metrics.r2_score(y_test, y_test_pred)"
      ],
      "execution_count": 16,
      "outputs": [
        {
          "output_type": "execute_result",
          "data": {
            "text/plain": [
              "0.7114290465682265"
            ]
          },
          "metadata": {
            "tags": []
          },
          "execution_count": 16
        }
      ]
    },
    {
      "cell_type": "markdown",
      "metadata": {
        "id": "PtTdwSdrm6rZ"
      },
      "source": [
        "We see that the score of our predictions after training the data on training set is (~71%)."
      ]
    },
    {
      "cell_type": "code",
      "metadata": {
        "id": "kqZwFgevM9oF",
        "outputId": "b183a63b-b3d5-4013-8655-da49f504f932",
        "colab": {
          "base_uri": "https://localhost:8080/",
          "height": 86
        }
      },
      "source": [
        "decision_tree.get_reductions()"
      ],
      "execution_count": 17,
      "outputs": [
        {
          "output_type": "execute_result",
          "data": {
            "text/plain": [
              "array([13399.20701222,  5186.7937058 ,  6077.93066069,  3654.66842837,\n",
              "       15268.52069709, 20767.48739927, 10509.61121374,  9736.48016117,\n",
              "        5424.56393685,  6267.04097296,  9541.52648792,  3903.72194251,\n",
              "       21012.15264691])"
            ]
          },
          "metadata": {
            "tags": []
          },
          "execution_count": 17
        }
      ]
    },
    {
      "cell_type": "code",
      "metadata": {
        "id": "x4Zs2-2SlM9_",
        "outputId": "0445f264-443d-44c8-b743-03b61c77a4f1",
        "colab": {
          "base_uri": "https://localhost:8080/",
          "height": 34
        }
      },
      "source": [
        "decision_tree.fit(X_train, y_train, min_coef_of_var = 0.025, pruning_factor = 0.4)\n",
        "y_test_pred = decision_tree.predict(X_test)\n",
        "metrics.r2_score(y_test, y_test_pred)"
      ],
      "execution_count": 18,
      "outputs": [
        {
          "output_type": "execute_result",
          "data": {
            "text/plain": [
              "0.7428687746808185"
            ]
          },
          "metadata": {
            "tags": []
          },
          "execution_count": 18
        }
      ]
    },
    {
      "cell_type": "markdown",
      "metadata": {
        "id": "xzcvbpMAnXIs"
      },
      "source": [
        "The score is significantly improved (from ~71% to ~74%) if we use pruning (with pruning factor = 0.4). Next we check how scikit-learn fares on the same test:train split.\n"
      ]
    },
    {
      "cell_type": "code",
      "metadata": {
        "id": "M0_BiqDpRDfD",
        "outputId": "ffb397f6-8cad-4b90-d48d-53ca488e6153",
        "colab": {
          "base_uri": "https://localhost:8080/",
          "height": 123
        }
      },
      "source": [
        "from sklearn.tree import DecisionTreeRegressor\n",
        "dt = DecisionTreeRegressor()\n",
        "dt.fit(X_train, y_train)"
      ],
      "execution_count": null,
      "outputs": [
        {
          "output_type": "execute_result",
          "data": {
            "text/plain": [
              "DecisionTreeRegressor(ccp_alpha=0.0, criterion='mse', max_depth=None,\n",
              "                      max_features=None, max_leaf_nodes=None,\n",
              "                      min_impurity_decrease=0.0, min_impurity_split=None,\n",
              "                      min_samples_leaf=1, min_samples_split=2,\n",
              "                      min_weight_fraction_leaf=0.0, presort='deprecated',\n",
              "                      random_state=None, splitter='best')"
            ]
          },
          "metadata": {
            "tags": []
          },
          "execution_count": 5
        }
      ]
    },
    {
      "cell_type": "code",
      "metadata": {
        "id": "mJdyftNvi82D",
        "outputId": "3c770dbd-84ba-422f-dbb7-2673f2f8aa7a",
        "colab": {
          "base_uri": "https://localhost:8080/",
          "height": 35
        }
      },
      "source": [
        "y_test_pred_dt = dt.predict(X_test)\n",
        "metrics.r2_score(y_test, y_test_pred_dt)"
      ],
      "execution_count": null,
      "outputs": [
        {
          "output_type": "execute_result",
          "data": {
            "text/plain": [
              "0.8055224772577356"
            ]
          },
          "metadata": {
            "tags": []
          },
          "execution_count": 6
        }
      ]
    },
    {
      "cell_type": "markdown",
      "metadata": {
        "id": "WUlJuDhLp5rM"
      },
      "source": [
        "As we see, scikit-learn's implementation gives a score of (~80%). Their implementation is more advanced than our implementation which uses nothing but the absolute basics of decision trees. \n",
        "\n",
        "Now, we investigate how our algorithm performed using a graphical approach."
      ]
    },
    {
      "cell_type": "code",
      "metadata": {
        "id": "vYAU8oFIi_SA",
        "outputId": "d908eb24-f672-4ee4-ddfe-13a7a25a436b",
        "colab": {
          "base_uri": "https://localhost:8080/",
          "height": 279
        }
      },
      "source": [
        "import matplotlib.pyplot as plt\n",
        "plt.plot(y_test, y_test, color = \"green\")\n",
        "plt.xlabel(\"actual\")\n",
        "plt.ylabel(\"predicted\")\n",
        "plt.scatter(y_test, y_test_pred)\n",
        "plt.show()"
      ],
      "execution_count": 30,
      "outputs": [
        {
          "output_type": "display_data",
          "data": {
            "image/png": "[encoded data removed]",
            "text/plain": [
              "<Figure size 432x288 with 1 Axes>"
            ]
          },
          "metadata": {
            "tags": [],
            "needs_background": "light"
          }
        }
      ]
    },
    {
      "cell_type": "markdown",
      "metadata": {
        "id": "MtcfaQviqCdx"
      },
      "source": [
        "We plot the predicted value of price of house on the y-axis and actual value on the x-axis. Ideally all the points should lie on the y = x line. We observe that most of the points lie close to the y = x line. We also observe that there are some horizonal lines in the plot implying same predicted value for a range of actual values. This is because we implemented a basic decision tree. We will see later that these horizontal lines disappear when we use more advanced techniques like the random-forest."
      ]
    },
    {
      "cell_type": "markdown",
      "metadata": {
        "id": "d7yFrwtj16gG"
      },
      "source": [
        "## Random Forests\n",
        "\n",
        "Now we take a look at simple ensemble methods using decision trees. The most famous of these is the classical Random Forest, using Bagging / Random Subspace projection methods.\n",
        "\n",
        "But, what is a _random forest_ ? A random forest is simply a collection of trees trained on random subsets of the data (either resampled data points and/or subset of attributes). Here is a picture of a 2-tree random forest:\n",
        "\n",
        "![](https://github.com/mbrc12/random-images/raw/master/two-tree-random-forest.png)\n",
        "\n",
        "Another question is, how do we actually _use_ this structure to generate predictions. In the simplest form, this prediction is simply done by averaging the answers from the trees. Note that we use averaging here because the problem we are solving is **regression** as opposed to **classification**.\n",
        "\n",
        "Of course, this is not the only method that can be used. Other methods involve boosting trees, which train trees on the residual from other trees, but we do not delve into this matter here.\n",
        "\n",
        "### Construction\n",
        "\n",
        "Now let us take a look at how we construct these forests. The code for the algorithm described here is included below.\n",
        "\n",
        "Firstly, note that we take the algorithm for Decision Trees as a black-box (in our code, we use the Decision Trees above). Given a training dataset, we form a fixed (hyperparameter) number of trees (_lines 21-30 below_). For each tree, we choose a resampled (with replacement) subset of the datapoints (_line 23_), _and_ a subset of the attributes (_line 24_). The size of these subsets are controlled by the hyperparameters. Then we train the tree on this data (_line 28_).\n",
        "\n",
        "The first technique of using resampled data is very similar to the bootstrap method, and can also be used for **constructing <u>confidence intervals</u> for the answers**. It is also referred to as **bagging / bootstrap-aggregating** in the ensemble learning literature.\n",
        "\n",
        "The second technique of choosing a random subset of the attributes is part of a generic technique for dealing with high-dimensional data, called **random subspace projection**. The name is so because choosing a particular set of attributes/coordinates is equivalent to projecting the high-dimensional datapoints to smaller subspaces.\n",
        "\n",
        "**Note:** In our use-case we do not use random-subspace projection, because we have only a few attributes (~15), in which the projection method doesn't help much.\n",
        "\n",
        "### Prediction\n",
        "\n",
        "The prediction is implemented in lines _34-43_. It is a simple algorithm in our case: just average the answers from all the trees."
      ]
    },
    {
      "cell_type": "code",
      "metadata": {
        "id": "UrfUQZX0nm5H"
      },
      "source": [
        "from numpy.random import choice, seed\n",
        "\n",
        "class RandomForest:\n",
        "\n",
        "    trees = []\n",
        "    importance = None\n",
        "\n",
        "    def __init__(self):\n",
        "        self.trees = []\n",
        "\n",
        "    def fit(self, X, y, num_trees = 1, frac_samples = None, frac_attrs = None):\n",
        "        seed(0)\n",
        "        \n",
        "        N, total_attributes = X.shape \n",
        "        self.importance = np.zeros(total_attributes)\n",
        "\n",
        "        if frac_samples == None:\n",
        "            frac_samples = 1.0\n",
        "\n",
        "        if frac_attrs == None:\n",
        "            frac_attrs = 1.0\n",
        "\n",
        "        for i in range(num_trees):\n",
        "            new_tree = DecisionTree()\n",
        "            sample = choice(range(N), size = int(N * frac_samples))\n",
        "            attrs = choice(range(total_attributes), size = int(total_attributes * frac_attrs))\n",
        "            #print(attrs, end=\", \")\n",
        "            dataset = X[sample, :]   #[:, attrs]\n",
        "            ys = y[sample]\n",
        "            new_tree.fit(dataset, ys, min_coef_of_var = 0.025, pruning_factor = 0)\n",
        "\n",
        "            self.importance += new_tree.get_reductions()\n",
        "\n",
        "            self.trees.append((new_tree, attrs))\n",
        "\n",
        "        self.importance /= num_trees\n",
        "\n",
        "    def predict(self, X):\n",
        "        \n",
        "        N, _ = X.shape \n",
        "\n",
        "        answer = np.zeros(N)\n",
        "\n",
        "        for (t, attrs) in self.trees:\n",
        "            answer += t.predict(X) # [:, attrs])\n",
        "        \n",
        "        return answer / len(self.trees)"
      ],
      "execution_count": 26,
      "outputs": []
    },
    {
      "cell_type": "markdown",
      "metadata": {
        "id": "eLVOgwHt65FA"
      },
      "source": [
        "Now, we train the random forest on our training data, using a 0.8 fraction of (resampled) data-points. However, we choose not to use to the projection method, for reasons described above."
      ]
    },
    {
      "cell_type": "code",
      "metadata": {
        "id": "EiZjRa6Htj0k"
      },
      "source": [
        "rf = RandomForest()\n",
        "rf.fit(X_train, y_train, num_trees = 30, frac_samples = 0.8, frac_attrs = 1.0)"
      ],
      "execution_count": 27,
      "outputs": []
    },
    {
      "cell_type": "markdown",
      "metadata": {
        "id": "Lz4sagAe7g69"
      },
      "source": [
        "And then we test it on our test-data."
      ]
    },
    {
      "cell_type": "code",
      "metadata": {
        "id": "thF_c4Uetrsj",
        "outputId": "1f228a0d-691a-41fa-b4bf-3ba39f9826f2",
        "colab": {
          "base_uri": "https://localhost:8080/",
          "height": 34
        }
      },
      "source": [
        "y_test_rf = rf.predict(X_test)\n",
        "y_test_rf\n",
        "metrics.r2_score(y_test, y_test_rf)"
      ],
      "execution_count": 28,
      "outputs": [
        {
          "output_type": "execute_result",
          "data": {
            "text/plain": [
              "0.8545010166573305"
            ]
          },
          "metadata": {
            "tags": []
          },
          "execution_count": 28
        }
      ]
    },
    {
      "cell_type": "markdown",
      "metadata": {
        "id": "lvMNQZzf7l6-"
      },
      "source": [
        "We see a really good improvement from the raw Decision Tree score (~72% to ~85%). Let us also compare it to the scikit-learn implementation (which is more advanced than ours):"
      ]
    },
    {
      "cell_type": "code",
      "metadata": {
        "id": "3o_jN3MpuEc4",
        "outputId": "74803558-c867-4520-8347-be4f62c0da9c",
        "colab": {
          "base_uri": "https://localhost:8080/",
          "height": 139
        }
      },
      "source": [
        "from sklearn.ensemble import RandomForestRegressor\n",
        "rfsk = RandomForestRegressor(bootstrap=True)\n",
        "rfsk.fit(X_train, y_train)"
      ],
      "execution_count": null,
      "outputs": [
        {
          "output_type": "execute_result",
          "data": {
            "text/plain": [
              "RandomForestRegressor(bootstrap=True, ccp_alpha=0.0, criterion='mse',\n",
              "                      max_depth=None, max_features='auto', max_leaf_nodes=None,\n",
              "                      max_samples=None, min_impurity_decrease=0.0,\n",
              "                      min_impurity_split=None, min_samples_leaf=1,\n",
              "                      min_samples_split=2, min_weight_fraction_leaf=0.0,\n",
              "                      n_estimators=100, n_jobs=None, oob_score=False,\n",
              "                      random_state=None, verbose=0, warm_start=False)"
            ]
          },
          "metadata": {
            "tags": []
          },
          "execution_count": 13
        }
      ]
    },
    {
      "cell_type": "code",
      "metadata": {
        "id": "YADeDtpRwzKT",
        "outputId": "cbac7ead-ea66-4b92-839f-abc9ce9d2012",
        "colab": {
          "base_uri": "https://localhost:8080/",
          "height": 34
        }
      },
      "source": [
        "y_test_rfsk = rfsk.predict(X_test)\n",
        "metrics.r2_score(y_test, y_test_rfsk)"
      ],
      "execution_count": null,
      "outputs": [
        {
          "output_type": "execute_result",
          "data": {
            "text/plain": [
              "0.9099455853887437"
            ]
          },
          "metadata": {
            "tags": []
          },
          "execution_count": 14
        }
      ]
    },
    {
      "cell_type": "markdown",
      "metadata": {
        "id": "d2-61CTh76uO"
      },
      "source": [
        "We see that scikit-learn manages an accuracy of ~91%. Our 85% is not that worse, given that our implementation is very bare-bones, and mostly proof-of-concept. This shows the power of the very idea of random forests (and in general, ensemble learning). \n",
        "\n",
        "Finally, we plot our predictions as opposed to the ground truth (x = y). "
      ]
    },
    {
      "cell_type": "code",
      "metadata": {
        "id": "kQ42jxDD3dLR",
        "outputId": "2008f936-341a-436d-c2d7-e5a16a830e32",
        "colab": {
          "base_uri": "https://localhost:8080/",
          "height": 279
        }
      },
      "source": [
        "plt.plot(y_test, y_test, color = \"green\")\n",
        "plt.xlabel(\"actual\")\n",
        "plt.ylabel(\"predicted\")\n",
        "plt.scatter(y_test, y_test_rf)\n",
        "plt.show()"
      ],
      "execution_count": 31,
      "outputs": [
        {
          "output_type": "display_data",
          "data": {
            "image/png": "[encoded data removed]",
            "text/plain": [
              "<Figure size 432x288 with 1 Axes>"
            ]
          },
          "metadata": {
            "tags": [],
            "needs_background": "light"
          }
        }
      ]
    },
    {
      "cell_type": "markdown",
      "metadata": {
        "id": "CFzloE7U8W4J"
      },
      "source": [
        "We see that a large chunk of the predicted points is really close to the ground truths. Also, we observe no horizontal segments like in the case for Decision Trees. This is because of the averaging step in the Random Forests, and contributes immensely to the accuracy.\n",
        "\n",
        "## Variable Importance\n",
        "\n",
        "Now we take a look at the importance of variables. For this purpose, we compute the following quantity for each tree $T$ in the ensemble:\n",
        "\n",
        "$\\mathrm{VarReduction}_i = \\sum_{x \\in T} \\mathrm{Optimal\\ Variance\\ Reduction\\ in\\ node\\ } x \\mathrm{\\ by\\ attribute\\ } i$\n",
        "\n",
        "and then denote \n",
        "\n",
        "$\\mathrm{Importance}_i = \\mathrm{Average\\ of\\ VarReduction}_i$\n",
        "\n",
        "This quantity will be the importance of attribute $i$. We plot these quantities in a relative sense.\n"
      ]
    },
    {
      "cell_type": "code",
      "metadata": {
        "id": "QxnUDubGHjQx",
        "outputId": "77a82f6a-4066-4221-a33f-54c3e1e0123c",
        "colab": {
          "base_uri": "https://localhost:8080/",
          "height": 336
        }
      },
      "source": [
        "importance = rf.importance\n",
        "relative_importance = importance / np.sum(importance)\n",
        "fig = plt.figure()\n",
        "ax = fig.add_axes([0,0,1,1])\n",
        "ax.bar(data.feature_names, relative_importance)\n",
        "plt.ylabel('Relative Importance')\n",
        "plt.show()"
      ],
      "execution_count": 34,
      "outputs": [
        {
          "output_type": "display_data",
          "data": {
            "image/png": "[encoded data removed]",
            "text/plain": [
              "<Figure size 432x288 with 1 Axes>"
            ]
          },
          "metadata": {
            "tags": [],
            "needs_background": "light"
          }
        }
      ]
    },
    {
      "cell_type": "markdown",
      "metadata": {
        "id": "qKCn5GQgQ_3b"
      },
      "source": [
        "The following are the meanings of the attributes:\n",
        "\n",
        "    CRIM - per capita crime rate by town\n",
        "    ZN - proportion of residential land zoned for lots over 25,000 sq.ft.\n",
        "    INDUS - proportion of non-retail business acres per town.\n",
        "    CHAS - Charles River dummy variable (1 if tract bounds river; 0 otherwise)\n",
        "    NOX - nitric oxides concentration (parts per 10 million)\n",
        "    RM - average number of rooms per dwelling\n",
        "    AGE - proportion of owner-occupied units built prior to 1940\n",
        "    DIS - weighted distances to five Boston employment centres\n",
        "    RAD - index of accessibility to radial highways\n",
        "    TAX - full-value property-tax rate per $10,000\n",
        "    PTRATIO - pupil-teacher ratio by town\n",
        "    B - 1000(Bk - 0.63)^2 where Bk is the proportion of blacks by town\n",
        "    LSTAT - % lower status of the population\n",
        "    MEDV - Median value of owner-occupied homes in $1000's\n",
        "\n",
        "\n",
        "So we can see that the most important attribute is RM, which is the average number of rooms. This makes sense, because the number of rooms is an important factor. The 2nd most important factor is LSTAT, which is the percentage of the population which is of lower status. This can be interpreted to mean that the price is lower in underdeveloped regions. And the 3rd most important factor is crime rate (CRIM), which too makes a lot of sense. On the other end, the CHAS variable is about the Charles River. It doesn't make too much of an impact on the price."
      ]
    },
    {
      "cell_type": "code",
      "metadata": {
        "id": "7PgMAamUQKn4"
      },
      "source": [
        ""
      ],
      "execution_count": null,
      "outputs": []
    }
  ]
}